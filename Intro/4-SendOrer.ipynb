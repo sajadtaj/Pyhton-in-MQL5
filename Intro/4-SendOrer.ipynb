{
 "cells": [
  {
   "cell_type": "code",
   "execution_count": 1,
   "metadata": {},
   "outputs": [],
   "source": [
    "import MetaTrader5 as mt5"
   ]
  },
  {
   "cell_type": "markdown",
   "metadata": {},
   "source": [
    "## Order Check "
   ]
  },
  {
   "cell_type": "code",
   "execution_count": 2,
   "metadata": {},
   "outputs": [
    {
     "name": "stdout",
     "output_type": "stream",
     "text": [
      "Initialize stablished\n"
     ]
    }
   ],
   "source": [
    "if not mt5.initialize():\n",
    "    print('Initialize Failed, Error:',mt5.last_error())\n",
    "    quit()\n",
    "else:\n",
    "    print('Initialize stablished')"
   ]
  },
  {
   "cell_type": "code",
   "execution_count": 3,
   "metadata": {},
   "outputs": [
    {
     "name": "stdout",
     "output_type": "stream",
     "text": [
      "فولاد is available\n"
     ]
    }
   ],
   "source": [
    "Symbol = 'فولاد'\n",
    "Symbol_info = mt5.symbol_info(Symbol)\n",
    "\n",
    "if Symbol_info is None:\n",
    "    print(Symbol,'Is not Found')\n",
    "    mt5.shutdown()\n",
    "    quit()\n",
    "else:\n",
    "    print(Symbol,'is available')"
   ]
  },
  {
   "cell_type": "code",
   "execution_count": 4,
   "metadata": {},
   "outputs": [],
   "source": [
    "point=mt5.symbol_info(Symbol).point\n",
    "##فکر کنم منوظر از پوینت همان واحد جابجایی  باشد که اینجا می شود 1 تومان"
   ]
  },
  {
   "cell_type": "markdown",
   "metadata": {},
   "source": [
    "## Create Request Dictionary "
   ]
  },
  {
   "cell_type": "code",
   "execution_count": 5,
   "metadata": {},
   "outputs": [],
   "source": [
    "request ={\n",
    "'action':mt5.TRADE_ACTION_DEAL,\n",
    "'symbol':Symbol,\n",
    "'volume':10,\n",
    "'type':mt5.ORDER_TYPE_BUY,\n",
    "'price':mt5.symbol_info_tick(Symbol).ask,\n",
    "'sl':mt5.symbol_info_tick(Symbol).ask-100*(point),\n",
    "'tp':mt5.symbol_info_tick(Symbol).ask+100*(point),\n",
    "'deviation': 10,  # مقدار نوسان از قیمت فعلی که اگر قیمت بیشتر از جابجا شود سفارش اجرا نگردد\n",
    "'magic':234000,\n",
    "'comment':\"pyhton scrit\",\n",
    "'type_time':mt5.ORDER_TIME_GTC,\n",
    "'type_filling':mt5.ORDER_FILLING_RETURN # mt5.Symbol_info(symbol).filling_mode\n",
    "}"
   ]
  },
  {
   "cell_type": "markdown",
   "metadata": {},
   "source": [
    ">   ## deviation\n",
    "+    مقدار نوسان از قیمت فعلی که اگر قیمت بیشتر از جابجا شود سفارش اجرا نگردد\n",
    ">   ## ORDER_TYPE_FILLING\n",
    "+   ORDER_FILLING_FOK :  سفارش را در همان حجم مشخص اجرا میکند اگر مقدار کافی در بازار موجود نباشد سفارش اجرا نمی گردد\n",
    "\n",
    "+   ORDER_FILLING_IOC : در صورتی که حجم آن سهام در بازار کافی نباشد. حداکثر سهم معامله شد  و حجم باقی مانده لغو می گردد\n",
    "\n",
    "+   ORDER_FILLING_RETURN : این سفارش فقط برای گروه های زیر اجرا می شود. در صورت تکمیل بخشی از سفارش بخش دیگر آن لغو نمی شود\n",
    "    +   __market__ : \n",
    "    +   ORDER_TYPE_BUY \n",
    "    +    ORDER_TYPE_SELL\n",
    "    +   __limit and stop limit orders__ : \n",
    "    +    ORDER_TYPE_BUY_LIMIT, \n",
    "    +    ORDER_TYPE_SELL_LIMIT,\n",
    "    +    ORDER_TYPE_BUY_STOP_LIMIT \n",
    "    +    ORDER_TYPE_SELL_STOP_LIMIT\n",
    "\n",
    "> ##  TRADE_REQUEST_ACTIONS\n",
    "<ul>\n",
    "    <li>TRADE_ACTION_DEAL\n",
    "        <ul>\n",
    "            <li>برای معامله فوری با پارامترهای مشخص شده - سفارش بازار </li>\n",
    "        </ul>\n",
    "    </li>\n",
    "    <li>TRADE_ACTION_PENDING\n",
    "        <ul>\n",
    "            <li>ثبت سفارش برای انجام معامله در شرایط مشخص-  سفارش در انتظار</li>\n",
    "        </ul>\n",
    "    </li>\n",
    "    <li>TRADE_ACTION_SLTP\n",
    "        <ul>\n",
    "            <li>تغییر موقعیت باز Stop Loss و Take Profit</li>\n",
    "        </ul>\n",
    "    </li>\n",
    "    <li>TRADE_ACTION_REMOVE\n",
    "        <ul>\n",
    "            <li>سفارش معلق قبلی را حذف کنید</li>\n",
    "        </ul>\n",
    "    </li>\n",
    "    <li>TRADE_ACTION_MODIFY\n",
    "        <ul>\n",
    "            <li>پارامترهای سفارش معاملاتی قبلی را تغییر دهید</li>\n",
    "        </ul>\n",
    "    </li>\n",
    "    <li>TRADE_ACTION_CLOSE_BY\n",
    "        <ul>\n",
    "            <li>یک موقعیت را با یک موقعیت مقابل ببندید</li>\n",
    "        </ul>\n",
    "    </li>\n",
    "</ul>\n",
    "\n",
    "> ## ORDER_TYPE_TIME\n",
    "+   __ORDER_TIME_GTC__  : سفارش تا زمانی که به صورت دستی لغو نشود در صف می ماند\n",
    "+   __ORDER_TIME_DAY__ : سفارش فقط در روز معاملاتی جاری فعال است\n",
    "+   __ORDER_TIME_SPECIFIED__ :  سفارش تا تاریخ مشخص شده فعال است\n",
    "+   __ORDER_TIME_SPECIFIED_DAY__ :  سفارش تا ساعت 23:59:59 روز مشخص شده فعال است. اگر به نظر می رسد که این زمان خارج از یک جلسه معاملاتی است، انقضا در نزدیک ترین زمان معامله پردازش می شود."
   ]
  },
  {
   "cell_type": "code",
   "execution_count": 6,
   "metadata": {},
   "outputs": [],
   "source": [
    "result = mt5.order_check(request)"
   ]
  },
  {
   "cell_type": "code",
   "execution_count": 7,
   "metadata": {},
   "outputs": [
    {
     "name": "stdout",
     "output_type": "stream",
     "text": [
      "None\n"
     ]
    }
   ],
   "source": [
    "print(result)"
   ]
  },
  {
   "cell_type": "code",
   "execution_count": 8,
   "metadata": {},
   "outputs": [
    {
     "data": {
      "text/plain": [
       "SymbolInfo(custom=False, chart_mode=1, select=True, visible=True, session_deals=8144, session_buy_orders=0, session_sell_orders=0, volume=800, volumehigh=200000, volumelow=1, time=1673872208, digits=0, spread=0, spread_float=True, ticks_bookdepth=5, trade_calc_mode=32, trade_mode=1, start_time=0, expiration_time=0, trade_stops_level=0, trade_freeze_level=0, trade_exemode=3, swap_mode=0, swap_rollover3days=3, margin_hedged_use_leg=False, expiration_mode=10, filling_mode=0, order_mode=127, order_gtc_mode=0, option_mode=0, option_right=0, bid=6010.0, bidhigh=6210.0, bidlow=5960.0, ask=6010.0, askhigh=6220.0, asklow=5970.0, last=6470.0, lasthigh=6560.0, lastlow=6380.0, volume_real=800.0, volumehigh_real=200000.0, volumelow_real=1.0, option_strike=0.0, point=1.0, trade_tick_value=1.0, trade_tick_value_profit=1.0, trade_tick_value_loss=1.0, trade_tick_size=1.0, trade_contract_size=1.0, trade_accrued_interest=0.0, trade_face_value=0.0, trade_liquidity_rate=0.0, volume_min=1.0, volume_max=200000.0, volume_step=1.0, volume_limit=0.0, swap_long=0.0, swap_short=0.0, margin_initial=0.0, margin_maintenance=0.0, session_volume=117797090.0, session_turnover=761003309590.0, session_interest=0.0, session_buy_orders_volume=0.0, session_sell_orders_volume=0.0, session_open=6430.0, session_close=6460.0, session_aw=0.0, session_price_settlement=0.0, session_price_limit_min=5860.0, session_price_limit_max=6740.0, margin_hedged=0.0, price_change=0.1548, price_volatility=0.0, price_theoretical=0.0, price_greeks_delta=0.0, price_greeks_theta=0.0, price_greeks_gamma=0.0, price_greeks_vega=0.0, price_greeks_rho=0.0, price_greeks_omega=0.0, price_sensitivity=0.0, basis='', category='', currency_base='RLS', currency_profit='RLS', currency_margin='RLS', bank='', description='فولاد مبارکه اصفهان', exchange='', formula='', isin='IRO1FOLD0001', name='فولاد', page='', path='TSE\\\\بورس\\\\فلزات اساسی\\\\فولاد')"
      ]
     },
     "execution_count": 8,
     "metadata": {},
     "output_type": "execute_result"
    }
   ],
   "source": [
    "mt5.symbol_info(Symbol)"
   ]
  },
  {
   "cell_type": "markdown",
   "metadata": {},
   "source": [
    "## Get the number of active orders."
   ]
  },
  {
   "cell_type": "code",
   "execution_count": 9,
   "metadata": {},
   "outputs": [
    {
     "data": {
      "text/plain": [
       "0"
      ]
     },
     "execution_count": 9,
     "metadata": {},
     "output_type": "execute_result"
    }
   ],
   "source": [
    "mt5.orders_total()"
   ]
  },
  {
   "cell_type": "markdown",
   "metadata": {},
   "source": [
    "## Get the number of open positions."
   ]
  },
  {
   "cell_type": "code",
   "execution_count": 10,
   "metadata": {},
   "outputs": [
    {
     "data": {
      "text/plain": [
       "0"
      ]
     },
     "execution_count": 10,
     "metadata": {},
     "output_type": "execute_result"
    }
   ],
   "source": [
    "mt5.positions_total()"
   ]
  },
  {
   "cell_type": "code",
   "execution_count": null,
   "metadata": {},
   "outputs": [],
   "source": []
  }
 ],
 "metadata": {
  "kernelspec": {
   "display_name": "Python 3.10.4 ('metatrader')",
   "language": "python",
   "name": "python3"
  },
  "language_info": {
   "codemirror_mode": {
    "name": "ipython",
    "version": 3
   },
   "file_extension": ".py",
   "mimetype": "text/x-python",
   "name": "python",
   "nbconvert_exporter": "python",
   "pygments_lexer": "ipython3",
   "version": "3.10.4"
  },
  "orig_nbformat": 4,
  "vscode": {
   "interpreter": {
    "hash": "0e3a9f7885d50409a05a82432fc8b2df7ff6c8585e854bb5befbe4434835b827"
   }
  }
 },
 "nbformat": 4,
 "nbformat_minor": 2
}
