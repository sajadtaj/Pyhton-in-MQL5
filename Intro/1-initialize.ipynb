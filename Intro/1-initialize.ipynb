{
 "cells": [
  {
   "cell_type": "markdown",
   "metadata": {},
   "source": [
    "> ## MetaTrader 5\n",
    "<ol>\n",
    "<li>initialize</li>\n",
    "<li>last_error</li>\n",
    "<li> __version__ , __author__ , __doc__</li>\n",
    "<li>account_info</li>\n",
    "<li>Symbol info</li>\n",
    "<li>Market book add</li>\n",
    "<li>Market book get</li>\n",
    "<li>Symbol sellect</li>\n",
    "</ol>\n",
    "\n",
    "\n"
   ]
  },
  {
   "cell_type": "code",
   "execution_count": 1,
   "metadata": {},
   "outputs": [],
   "source": [
    "import MetaTrader5 as mp5\n",
    "import pandas as pd"
   ]
  },
  {
   "attachments": {},
   "cell_type": "markdown",
   "metadata": {},
   "source": [
    "## Initialize"
   ]
  },
  {
   "cell_type": "code",
   "execution_count": 2,
   "metadata": {},
   "outputs": [
    {
     "data": {
      "text/plain": [
       "True"
      ]
     },
     "execution_count": 2,
     "metadata": {},
     "output_type": "execute_result"
    }
   ],
   "source": [
    "mp5.initialize()"
   ]
  },
  {
   "attachments": {},
   "cell_type": "markdown",
   "metadata": {},
   "source": [
    "## check last Error"
   ]
  },
  {
   "cell_type": "code",
   "execution_count": 3,
   "metadata": {},
   "outputs": [
    {
     "data": {
      "text/plain": [
       "(1, 'Success')"
      ]
     },
     "execution_count": 3,
     "metadata": {},
     "output_type": "execute_result"
    }
   ],
   "source": [
    "mp5.last_error()"
   ]
  },
  {
   "attachments": {},
   "cell_type": "markdown",
   "metadata": {},
   "source": [
    "## Get some info about MT5"
   ]
  },
  {
   "cell_type": "code",
   "execution_count": 4,
   "metadata": {},
   "outputs": [
    {
     "name": "stdout",
     "output_type": "stream",
     "text": [
      "HELLO metaTrader  5.0.43\n",
      "HELLO metaTrader  (500, 3555, '23 Dec 2022')\n",
      "HELLO metaTrader  MetaQuotes Ltd.\n",
      "HELLO metaTrader  None\n"
     ]
    }
   ],
   "source": [
    "print('HELLO metaTrader ',mp5.__version__)\n",
    "print('HELLO metaTrader ',mp5.version())\n",
    "print('HELLO metaTrader ',mp5.__author__)\n",
    "print('HELLO metaTrader ',mp5.__doc__)\n"
   ]
  },
  {
   "cell_type": "code",
   "execution_count": 5,
   "metadata": {},
   "outputs": [
    {
     "name": "stdout",
     "output_type": "stream",
     "text": [
      "terminal_info() as dataframe:\n",
      "                 property                                              value\n",
      "0       community_account                                              False\n",
      "1    community_connection                                              False\n",
      "2               connected                                               True\n",
      "3            dlls_allowed                                               True\n",
      "4           trade_allowed                                               True\n",
      "5       tradeapi_disabled                                              False\n",
      "6           email_enabled                                              False\n",
      "7             ftp_enabled                                              False\n",
      "8   notifications_enabled                                              False\n",
      "9                    mqid                                              False\n",
      "10                  build                                               3555\n",
      "11                maxbars                                             100000\n",
      "12               codepage                                                  0\n",
      "13              ping_last                                              10551\n",
      "14      community_balance                                                0.0\n",
      "15         retransmission                                                0.0\n",
      "16                company                               Mofid Securities PJS\n",
      "17                   name                                        MofidTrader\n",
      "18               language                                            English\n",
      "19                   path                       C:\\Program Files\\MofidTrader\n",
      "20              data_path  C:\\Users\\s.tajedin\\AppData\\Roaming\\MetaQuotes\\...\n"
     ]
    }
   ],
   "source": [
    "# get properties in the form of a dictionary\n",
    "terminal_info_dict=mp5.terminal_info()._asdict()\n",
    "# convert the dictionary into DataFrame and print\n",
    "df=pd.DataFrame(list(terminal_info_dict.items()),columns=['property','value'])\n",
    "print(\"terminal_info() as dataframe:\")\n",
    "print(df[:-1])"
   ]
  },
  {
   "attachments": {},
   "cell_type": "markdown",
   "metadata": {},
   "source": [
    "## Account Info"
   ]
  },
  {
   "cell_type": "code",
   "execution_count": 6,
   "metadata": {},
   "outputs": [
    {
     "data": {
      "text/plain": [
       "AccountInfo(login=2886688, trade_mode=0, leverage=1, limit_orders=0, margin_so_mode=0, trade_allowed=True, trade_expert=False, margin_mode=0, currency_digits=0, fifo_close=False, balance=9549940.0, credit=0.0, profit=0.0, equity=9549940.0, margin=0.0, margin_free=9549940.0, margin_level=0.0, margin_so_call=50.0, margin_so_so=30.0, margin_initial=0.0, margin_maintenance=0.0, assets=0.0, liabilities=0.0, commission_blocked=0.0, name='سجاد تاج الدین', server='MofidSecurities-Server', currency='RLS', company='Mofid Securities Co.')"
      ]
     },
     "execution_count": 6,
     "metadata": {},
     "output_type": "execute_result"
    }
   ],
   "source": [
    "mp5.account_info()"
   ]
  },
  {
   "cell_type": "code",
   "execution_count": 6,
   "metadata": {},
   "outputs": [
    {
     "name": "stdout",
     "output_type": "stream",
     "text": [
      "Balance  :  9549940.0\n",
      "leverage :  1\n",
      "profit   :  4060.0\n",
      "equity   :  9554000.0\n",
      "server   :  MofidSecurities-Server\n",
      "Balance  :  9549940.0\n"
     ]
    }
   ],
   "source": [
    "Information = mp5.account_info()\n",
    "print('Balance  : ',Information.balance)\n",
    "print('leverage : ',Information.leverage)\n",
    "print('profit   : ',Information.profit)\n",
    "print('equity   : ',Information.equity)\n",
    "print('server   : ',Information.server)\n",
    "print('Balance  : ',Information.balance)"
   ]
  },
  {
   "attachments": {},
   "cell_type": "markdown",
   "metadata": {},
   "source": [
    "## Symbol Account"
   ]
  },
  {
   "cell_type": "code",
   "execution_count": 7,
   "metadata": {},
   "outputs": [
    {
     "data": {
      "text/plain": [
       "SymbolInfo(custom=False, chart_mode=1, select=True, visible=False, session_deals=1330, session_buy_orders=0, session_sell_orders=0, volume=13888, volumehigh=91870, volumelow=1, time=1676895387, digits=0, spread=14, spread_float=True, ticks_bookdepth=5, trade_calc_mode=32, trade_mode=1, start_time=0, expiration_time=0, trade_stops_level=0, trade_freeze_level=0, trade_exemode=3, swap_mode=0, swap_rollover3days=3, margin_hedged_use_leg=False, expiration_mode=10, filling_mode=0, order_mode=127, order_gtc_mode=0, option_mode=0, option_right=0, bid=97844.0, bidhigh=99000.0, bidlow=97800.0, ask=97858.0, askhigh=99400.0, asklow=97801.0, last=133000.0, lasthigh=138797.0, lastlow=130120.0, volume_real=13888.0, volumehigh_real=91870.0, volumelow_real=1.0, option_strike=0.0, point=1.0, trade_tick_value=1.0, trade_tick_value_profit=1.0, trade_tick_value_loss=1.0, trade_tick_size=1.0, trade_contract_size=1.0, trade_accrued_interest=0.0, trade_face_value=0.0, trade_liquidity_rate=0.0, volume_min=1.0, volume_max=100000.0, volume_step=1.0, volume_limit=0.0, swap_long=0.0, swap_short=0.0, margin_initial=0.0, margin_maintenance=0.0, session_volume=3610005.0, session_turnover=485374704008.0, session_interest=0.0, session_buy_orders_volume=0.0, session_sell_orders_volume=0.0, session_open=136000.0, session_close=134453.0, session_aw=0.0, session_price_settlement=0.0, session_price_limit_min=119091.0, session_price_limit_max=145555.0, margin_hedged=0.0, price_change=-1.0807, price_volatility=0.0, price_theoretical=0.0, price_greeks_delta=0.0, price_greeks_theta=0.0, price_greeks_gamma=0.0, price_greeks_vega=0.0, price_greeks_rho=0.0, price_greeks_omega=0.0, price_sensitivity=0.0, basis='', category='', currency_base='RLS', currency_profit='RLS', currency_margin='RLS', bank='', description='صندوق سکه طلای کیان', exchange='', formula='', isin='IRTKKIAN0001', name='گوهر', page='', path='TSE\\\\صندوق ETF\\\\گوهر')"
      ]
     },
     "execution_count": 7,
     "metadata": {},
     "output_type": "execute_result"
    }
   ],
   "source": [
    "mp5.symbol_info('گوهر')"
   ]
  },
  {
   "cell_type": "code",
   "execution_count": 9,
   "metadata": {},
   "outputs": [
    {
     "name": "stdout",
     "output_type": "stream",
     "text": [
      "description :  فولاد کاوه جنوب کیش\n",
      "isin :  IRO1KVEH0001\n",
      "path :  TSE\\بورس\\فلزات اساسی\\کاوه\n",
      "currency_base :  RLS\n",
      "bid :  11620.0\n",
      "Ask :  11630.0\n",
      "spread :  10\n",
      "last :  11620.0\n"
     ]
    }
   ],
   "source": [
    "Symbol_info= mp5.symbol_info('کاوه')\n",
    "print('description : ',Symbol_info.description)\n",
    "print('isin : ',Symbol_info.isin)\n",
    "print('path : ',Symbol_info.path)\n",
    "print('currency_base : ',Symbol_info.currency_base)\n",
    "print('bid : ' ,Symbol_info.bid)\n",
    "print('Ask : ' ,Symbol_info.ask)\n",
    "print('spread : ',Symbol_info.spread)\n",
    "print('last : ',Symbol_info.last)"
   ]
  },
  {
   "cell_type": "markdown",
   "metadata": {},
   "source": [
    "## Extract Book Orders"
   ]
  },
  {
   "cell_type": "code",
   "execution_count": 10,
   "metadata": {},
   "outputs": [
    {
     "data": {
      "text/plain": [
       "True"
      ]
     },
     "execution_count": 10,
     "metadata": {},
     "output_type": "execute_result"
    }
   ],
   "source": [
    "mp5.market_book_add('وساخت')"
   ]
  },
  {
   "cell_type": "code",
   "execution_count": 11,
   "metadata": {},
   "outputs": [
    {
     "data": {
      "text/plain": [
       "(BookInfo(type=1, price=2416.0, volume=10000, volume_dbl=10000.0),\n",
       " BookInfo(type=1, price=2415.0, volume=61053, volume_dbl=61053.0),\n",
       " BookInfo(type=1, price=2410.0, volume=183825, volume_dbl=183825.0),\n",
       " BookInfo(type=1, price=2403.0, volume=363128, volume_dbl=363128.0),\n",
       " BookInfo(type=1, price=2400.0, volume=7196689, volume_dbl=7196689.0),\n",
       " BookInfo(type=2, price=2399.0, volume=11603, volume_dbl=11603.0),\n",
       " BookInfo(type=2, price=2398.0, volume=100500, volume_dbl=100500.0),\n",
       " BookInfo(type=2, price=2392.0, volume=41000, volume_dbl=41000.0),\n",
       " BookInfo(type=2, price=2391.0, volume=15523, volume_dbl=15523.0),\n",
       " BookInfo(type=2, price=2390.0, volume=346443, volume_dbl=346443.0))"
      ]
     },
     "execution_count": 11,
     "metadata": {},
     "output_type": "execute_result"
    }
   ],
   "source": [
    "mp5.market_book_get('وساخت')"
   ]
  },
  {
   "cell_type": "code",
   "execution_count": 12,
   "metadata": {},
   "outputs": [],
   "source": [
    "d=mp5.market_book_get('فولاد')\n",
    "d"
   ]
  },
  {
   "attachments": {},
   "cell_type": "markdown",
   "metadata": {},
   "source": [
    "## Add symbol in Market Watch"
   ]
  },
  {
   "cell_type": "code",
   "execution_count": 13,
   "metadata": {},
   "outputs": [
    {
     "data": {
      "text/plain": [
       "True"
      ]
     },
     "execution_count": 13,
     "metadata": {},
     "output_type": "execute_result"
    }
   ],
   "source": [
    "mp5.symbol_select('فولاد')"
   ]
  },
  {
   "cell_type": "code",
   "execution_count": 14,
   "metadata": {},
   "outputs": [
    {
     "data": {
      "text/plain": [
       "True"
      ]
     },
     "execution_count": 14,
     "metadata": {},
     "output_type": "execute_result"
    }
   ],
   "source": [
    "mp5.symbol_select('کاوه')"
   ]
  },
  {
   "cell_type": "code",
   "execution_count": 15,
   "metadata": {},
   "outputs": [
    {
     "data": {
      "text/plain": [
       "True"
      ]
     },
     "execution_count": 15,
     "metadata": {},
     "output_type": "execute_result"
    }
   ],
   "source": [
    "mp5.shutdown()"
   ]
  },
  {
   "cell_type": "code",
   "execution_count": 16,
   "metadata": {},
   "outputs": [
    {
     "data": {
      "text/plain": [
       "(1, 'Success')"
      ]
     },
     "execution_count": 16,
     "metadata": {},
     "output_type": "execute_result"
    }
   ],
   "source": [
    "mp5.last_error()"
   ]
  },
  {
   "cell_type": "code",
   "execution_count": null,
   "metadata": {},
   "outputs": [],
   "source": []
  }
 ],
 "metadata": {
  "kernelspec": {
   "display_name": "Python 3.10.4 ('metatrader')",
   "language": "python",
   "name": "python3"
  },
  "language_info": {
   "codemirror_mode": {
    "name": "ipython",
    "version": 3
   },
   "file_extension": ".py",
   "mimetype": "text/x-python",
   "name": "python",
   "nbconvert_exporter": "python",
   "pygments_lexer": "ipython3",
   "version": "3.10.4"
  },
  "orig_nbformat": 4,
  "vscode": {
   "interpreter": {
    "hash": "0e3a9f7885d50409a05a82432fc8b2df7ff6c8585e854bb5befbe4434835b827"
   }
  }
 },
 "nbformat": 4,
 "nbformat_minor": 2
}
