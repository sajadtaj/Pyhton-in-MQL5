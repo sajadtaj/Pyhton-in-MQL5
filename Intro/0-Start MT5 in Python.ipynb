{
 "cells": [
  {
   "cell_type": "markdown",
   "metadata": {},
   "source": [
    "# MQL Vs Python  "
   ]
  },
  {
   "cell_type": "markdown",
   "metadata": {},
   "source": [
    "## list of MQL function \n",
    "> ### Section:\t\n",
    "+    Account Information\n",
    "+    Math Functions\n",
    "+    Common Functions\n",
    "+    Array Functions\n",
    "+    Timeseries and Indicators Access\n",
    "+    Economic Calendar\n",
    "+    Conversion Functions\n",
    "+    Custom Symbols\n",
    "+    Trade Signals\n",
    "+    Custom Indicators\n",
    "+    Working with OpenCL\n",
    "+    Chart Operations\n",
    "+    Working with databases\n",
    "+    Event Handling\n",
    "+    Object Functions\n",
    "+    Conversion Functions\n",
    "+    __>>>__ __MetaTrader for Python__  __<<<__\n",
    "+    Market Info\n",
    "+    Technical Indicators\n",
    "+    Trade Functions\n",
    "+    Global Variables of the Terminal\n",
    "+    Working with Optimization Results\n",
    "+    File Functions\n",
    "+    Working with Events\n",
    "+    Working with DirectX\n",
    "+    Common Functions\n",
    "+    Checkup\n",
    "+    String Functions\n",
    "+    Network Functions\n",
    "+    Date and Time"
   ]
  },
  {
   "cell_type": "markdown",
   "metadata": {},
   "source": [
    "> ##"
   ]
  },
  {
   "cell_type": "markdown",
   "metadata": {},
   "source": [
    "## MetaTrader for Python\n",
    "> ### Section:\n",
    "+   Conection\n",
    "+   Account Info\n",
    "+   Teminal Info\n",
    "+   Symbol Info\n",
    "+   Error Check\n",
    "+   Get Data\n",
    "+   Order\n",
    "+   Position \n",
    "+   History"
   ]
  },
  {
   "cell_type": "markdown",
   "metadata": {},
   "source": []
  }
 ],
 "metadata": {
  "kernelspec": {
   "display_name": "Python 3.10.7 64-bit",
   "language": "python",
   "name": "python3"
  },
  "language_info": {
   "name": "python",
   "version": "3.10.7"
  },
  "orig_nbformat": 4,
  "vscode": {
   "interpreter": {
    "hash": "c5431442ea00844835fa45d5ecfd2bb6879e4a3559b45a48168ff386f7c6a82c"
   }
  }
 },
 "nbformat": 4,
 "nbformat_minor": 2
}
