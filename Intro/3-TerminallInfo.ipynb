{
 "cells": [
  {
   "cell_type": "code",
   "execution_count": 1,
   "metadata": {},
   "outputs": [],
   "source": [
    "import MetaTrader5 as mp5\n",
    "from datetime import datetime\n",
    "# import jalali_pandas\n",
    "import numpy as np \n",
    "import pandas as pd"
   ]
  },
  {
   "cell_type": "code",
   "execution_count": 2,
   "metadata": {},
   "outputs": [
    {
     "data": {
      "text/plain": [
       "True"
      ]
     },
     "execution_count": 2,
     "metadata": {},
     "output_type": "execute_result"
    }
   ],
   "source": [
    "mp5.initialize()"
   ]
  },
  {
   "cell_type": "code",
   "execution_count": 3,
   "metadata": {},
   "outputs": [
    {
     "data": {
      "text/plain": [
       "TerminalInfo(community_account=False, community_connection=False, connected=True, dlls_allowed=True, trade_allowed=True, tradeapi_disabled=False, email_enabled=False, ftp_enabled=False, notifications_enabled=False, mqid=False, build=3555, maxbars=100000, codepage=0, ping_last=10215, community_balance=0.0, retransmission=5.491061063385187, company='Mofid Securities PJS', name='MofidTrader', language='English', path='C:\\\\Program Files\\\\MofidTrader', data_path='C:\\\\Users\\\\s.tajedin\\\\AppData\\\\Roaming\\\\MetaQuotes\\\\Terminal\\\\2506E8E7E4116548D478CE2C3598FAB1', commondata_path='C:\\\\Users\\\\s.tajedin\\\\AppData\\\\Roaming\\\\MetaQuotes\\\\Terminal\\\\Common')"
      ]
     },
     "execution_count": 3,
     "metadata": {},
     "output_type": "execute_result"
    }
   ],
   "source": [
    "mp5.terminal_info()"
   ]
  },
  {
   "cell_type": "code",
   "execution_count": 4,
   "metadata": {},
   "outputs": [
    {
     "data": {
      "text/plain": [
       "{'community_account': False,\n",
       " 'community_connection': False,\n",
       " 'connected': True,\n",
       " 'dlls_allowed': True,\n",
       " 'trade_allowed': True,\n",
       " 'tradeapi_disabled': False,\n",
       " 'email_enabled': False,\n",
       " 'ftp_enabled': False,\n",
       " 'notifications_enabled': False,\n",
       " 'mqid': False,\n",
       " 'build': 3555,\n",
       " 'maxbars': 100000,\n",
       " 'codepage': 0,\n",
       " 'ping_last': 10215,\n",
       " 'community_balance': 0.0,\n",
       " 'retransmission': 5.491061063385187,\n",
       " 'company': 'Mofid Securities PJS',\n",
       " 'name': 'MofidTrader',\n",
       " 'language': 'English',\n",
       " 'path': 'C:\\\\Program Files\\\\MofidTrader',\n",
       " 'data_path': 'C:\\\\Users\\\\s.tajedin\\\\AppData\\\\Roaming\\\\MetaQuotes\\\\Terminal\\\\2506E8E7E4116548D478CE2C3598FAB1',\n",
       " 'commondata_path': 'C:\\\\Users\\\\s.tajedin\\\\AppData\\\\Roaming\\\\MetaQuotes\\\\Terminal\\\\Common'}"
      ]
     },
     "execution_count": 4,
     "metadata": {},
     "output_type": "execute_result"
    }
   ],
   "source": [
    "mp5.terminal_info()._asdict()"
   ]
  },
  {
   "cell_type": "code",
   "execution_count": 9,
   "metadata": {},
   "outputs": [],
   "source": [
    "symbols=mp5.symbols_total()"
   ]
  },
  {
   "cell_type": "code",
   "execution_count": 6,
   "metadata": {},
   "outputs": [
    {
     "data": {
      "text/plain": [
       "16555"
      ]
     },
     "execution_count": 6,
     "metadata": {},
     "output_type": "execute_result"
    }
   ],
   "source": [
    "symbols"
   ]
  },
  {
   "cell_type": "code",
   "execution_count": 11,
   "metadata": {},
   "outputs": [
    {
     "data": {
      "text/plain": [
       "False"
      ]
     },
     "execution_count": 11,
     "metadata": {},
     "output_type": "execute_result"
    }
   ],
   "source": [
    "mp5.symbol_select()"
   ]
  },
  {
   "cell_type": "code",
   "execution_count": null,
   "metadata": {},
   "outputs": [],
   "source": []
  }
 ],
 "metadata": {
  "kernelspec": {
   "display_name": "Python 3.10.4 ('metatrader')",
   "language": "python",
   "name": "python3"
  },
  "language_info": {
   "codemirror_mode": {
    "name": "ipython",
    "version": 3
   },
   "file_extension": ".py",
   "mimetype": "text/x-python",
   "name": "python",
   "nbconvert_exporter": "python",
   "pygments_lexer": "ipython3",
   "version": "3.10.4"
  },
  "orig_nbformat": 4,
  "vscode": {
   "interpreter": {
    "hash": "0e3a9f7885d50409a05a82432fc8b2df7ff6c8585e854bb5befbe4434835b827"
   }
  }
 },
 "nbformat": 4,
 "nbformat_minor": 2
}
