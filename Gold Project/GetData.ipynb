{
 "cells": [
  {
   "cell_type": "code",
   "execution_count": 37,
   "metadata": {},
   "outputs": [
    {
     "name": "stdout",
     "output_type": "stream",
     "text": [
      "The autoreload extension is already loaded. To reload it, use:\n",
      "  %reload_ext autoreload\n"
     ]
    }
   ],
   "source": [
    "from datetime import datetime\n",
    "import jalali_pandas\n",
    "import numpy as np \n",
    "import pandas as pd\n",
    "\n",
    "%load_ext autoreload\n",
    "%autoreload 2\n",
    "from time import sleep\n",
    "from datetime import datetime, timedelta\n",
    "import MetaTrader5 as Mt5\n",
    "\n",
    "from include.trade import Trade\n",
    "from include.tick import Tick\n",
    "from include.rates import Rates\n",
    "from include.indicator_connector import Indicator"
   ]
  },
  {
   "cell_type": "code",
   "execution_count": 38,
   "metadata": {},
   "outputs": [],
   "source": [
    "# def start_mt5(username, password, server, path):\n",
    "#     # Ensure that all variables are the correct type\n",
    "#     uname           = int(username) # Username must be an int\n",
    "#     pword           = str(password) # Password must be a string\n",
    "#     trading_server  = str(server) # Server must be a string\n",
    "#     filepath        = str(path) # Filepath must be a string\n",
    "\n",
    "#     # Attempt to start MT5\n",
    "#     if Mt5.initialize(login=uname, password=pword, server=trading_server, path=filepath):\n",
    "#         # Login to MT5\n",
    "#         if Mt5.login(login=uname, password=pword, server=trading_server):\n",
    "#             return True\n",
    "#         else:\n",
    "#             print(\"Login Fail\")\n",
    "#             quit()\n",
    "#             return PermissionError\n",
    "#     else:\n",
    "#         print(\"MT5 Initialization Failed\")\n",
    "#         quit()\n",
    "#         return ConnectionAbortedError\n",
    "    \n",
    "# start_mt5(  \n",
    "#         username  = 5014120852       ,\n",
    "#         password  = 'blqlyf5p'       ,\n",
    "#         server    = 'MetaQuotes-Demo',\n",
    "#         path      = rf'C:\\Users\\s.tajedin\\AppData\\Roaming\\MetaTrader 5\\terminal64.exe'\n",
    "#     )\n"
   ]
  },
  {
   "cell_type": "code",
   "execution_count": 39,
   "metadata": {},
   "outputs": [
    {
     "data": {
      "text/plain": [
       "AccountInfo(login=5014272879, trade_mode=0, leverage=100, limit_orders=200, margin_so_mode=0, trade_allowed=True, trade_expert=True, margin_mode=2, currency_digits=2, fifo_close=False, balance=9968.0, credit=0.0, profit=-2.7, equity=9965.3, margin=194.61, margin_free=9770.69, margin_level=5120.651559529314, margin_so_call=50.0, margin_so_so=30.0, margin_initial=0.0, margin_maintenance=0.0, assets=0.0, liabilities=0.0, commission_blocked=0.0, name='Sajad Taj', server='MetaQuotes-Demo', currency='USD', company='MetaQuotes Software Corp.')"
      ]
     },
     "execution_count": 39,
     "metadata": {},
     "output_type": "execute_result"
    }
   ],
   "source": [
    "Mt5.initialize()\n",
    "Mt5.account_info()"
   ]
  },
  {
   "cell_type": "markdown",
   "metadata": {},
   "source": [
    "## Get 5 Min Data"
   ]
  },
  {
   "cell_type": "code",
   "execution_count": 40,
   "metadata": {},
   "outputs": [
    {
     "data": {
      "text/html": [
       "<div>\n",
       "<style scoped>\n",
       "    .dataframe tbody tr th:only-of-type {\n",
       "        vertical-align: middle;\n",
       "    }\n",
       "\n",
       "    .dataframe tbody tr th {\n",
       "        vertical-align: top;\n",
       "    }\n",
       "\n",
       "    .dataframe thead th {\n",
       "        text-align: right;\n",
       "    }\n",
       "</style>\n",
       "<table border=\"1\" class=\"dataframe\">\n",
       "  <thead>\n",
       "    <tr style=\"text-align: right;\">\n",
       "      <th></th>\n",
       "      <th>time</th>\n",
       "      <th>open</th>\n",
       "      <th>high</th>\n",
       "      <th>low</th>\n",
       "      <th>close</th>\n",
       "      <th>tick_volume</th>\n",
       "      <th>spread</th>\n",
       "      <th>real_volume</th>\n",
       "    </tr>\n",
       "  </thead>\n",
       "  <tbody>\n",
       "    <tr>\n",
       "      <th>0</th>\n",
       "      <td>2023-06-14 05:35:00</td>\n",
       "      <td>1947.37</td>\n",
       "      <td>1947.52</td>\n",
       "      <td>1946.77</td>\n",
       "      <td>1947.42</td>\n",
       "      <td>245</td>\n",
       "      <td>7</td>\n",
       "      <td>0</td>\n",
       "    </tr>\n",
       "    <tr>\n",
       "      <th>1</th>\n",
       "      <td>2023-06-14 05:40:00</td>\n",
       "      <td>1947.42</td>\n",
       "      <td>1947.67</td>\n",
       "      <td>1946.84</td>\n",
       "      <td>1946.97</td>\n",
       "      <td>182</td>\n",
       "      <td>7</td>\n",
       "      <td>0</td>\n",
       "    </tr>\n",
       "    <tr>\n",
       "      <th>2</th>\n",
       "      <td>2023-06-14 05:45:00</td>\n",
       "      <td>1946.99</td>\n",
       "      <td>1947.53</td>\n",
       "      <td>1946.79</td>\n",
       "      <td>1946.85</td>\n",
       "      <td>210</td>\n",
       "      <td>7</td>\n",
       "      <td>0</td>\n",
       "    </tr>\n",
       "    <tr>\n",
       "      <th>3</th>\n",
       "      <td>2023-06-14 05:50:00</td>\n",
       "      <td>1946.86</td>\n",
       "      <td>1947.35</td>\n",
       "      <td>1946.83</td>\n",
       "      <td>1947.11</td>\n",
       "      <td>201</td>\n",
       "      <td>5</td>\n",
       "      <td>0</td>\n",
       "    </tr>\n",
       "    <tr>\n",
       "      <th>4</th>\n",
       "      <td>2023-06-14 05:55:00</td>\n",
       "      <td>1947.11</td>\n",
       "      <td>1947.65</td>\n",
       "      <td>1947.09</td>\n",
       "      <td>1947.55</td>\n",
       "      <td>186</td>\n",
       "      <td>8</td>\n",
       "      <td>0</td>\n",
       "    </tr>\n",
       "    <tr>\n",
       "      <th>5</th>\n",
       "      <td>2023-06-14 06:00:00</td>\n",
       "      <td>1947.54</td>\n",
       "      <td>1947.61</td>\n",
       "      <td>1947.25</td>\n",
       "      <td>1947.35</td>\n",
       "      <td>162</td>\n",
       "      <td>8</td>\n",
       "      <td>0</td>\n",
       "    </tr>\n",
       "    <tr>\n",
       "      <th>6</th>\n",
       "      <td>2023-06-14 06:05:00</td>\n",
       "      <td>1947.38</td>\n",
       "      <td>1947.65</td>\n",
       "      <td>1947.10</td>\n",
       "      <td>1947.10</td>\n",
       "      <td>186</td>\n",
       "      <td>8</td>\n",
       "      <td>0</td>\n",
       "    </tr>\n",
       "    <tr>\n",
       "      <th>7</th>\n",
       "      <td>2023-06-14 06:10:00</td>\n",
       "      <td>1947.05</td>\n",
       "      <td>1947.38</td>\n",
       "      <td>1946.96</td>\n",
       "      <td>1947.25</td>\n",
       "      <td>191</td>\n",
       "      <td>6</td>\n",
       "      <td>0</td>\n",
       "    </tr>\n",
       "    <tr>\n",
       "      <th>8</th>\n",
       "      <td>2023-06-14 06:15:00</td>\n",
       "      <td>1947.25</td>\n",
       "      <td>1947.49</td>\n",
       "      <td>1947.02</td>\n",
       "      <td>1947.15</td>\n",
       "      <td>140</td>\n",
       "      <td>6</td>\n",
       "      <td>0</td>\n",
       "    </tr>\n",
       "    <tr>\n",
       "      <th>9</th>\n",
       "      <td>2023-06-14 06:20:00</td>\n",
       "      <td>1947.19</td>\n",
       "      <td>1947.36</td>\n",
       "      <td>1946.86</td>\n",
       "      <td>1947.07</td>\n",
       "      <td>186</td>\n",
       "      <td>8</td>\n",
       "      <td>0</td>\n",
       "    </tr>\n",
       "    <tr>\n",
       "      <th>10</th>\n",
       "      <td>2023-06-14 06:25:00</td>\n",
       "      <td>1947.07</td>\n",
       "      <td>1947.84</td>\n",
       "      <td>1947.07</td>\n",
       "      <td>1947.70</td>\n",
       "      <td>168</td>\n",
       "      <td>7</td>\n",
       "      <td>0</td>\n",
       "    </tr>\n",
       "    <tr>\n",
       "      <th>11</th>\n",
       "      <td>2023-06-14 06:30:00</td>\n",
       "      <td>1947.73</td>\n",
       "      <td>1948.17</td>\n",
       "      <td>1947.52</td>\n",
       "      <td>1948.12</td>\n",
       "      <td>168</td>\n",
       "      <td>8</td>\n",
       "      <td>0</td>\n",
       "    </tr>\n",
       "    <tr>\n",
       "      <th>12</th>\n",
       "      <td>2023-06-14 06:35:00</td>\n",
       "      <td>1948.12</td>\n",
       "      <td>1948.26</td>\n",
       "      <td>1947.58</td>\n",
       "      <td>1948.11</td>\n",
       "      <td>211</td>\n",
       "      <td>7</td>\n",
       "      <td>0</td>\n",
       "    </tr>\n",
       "    <tr>\n",
       "      <th>13</th>\n",
       "      <td>2023-06-14 06:40:00</td>\n",
       "      <td>1948.11</td>\n",
       "      <td>1948.25</td>\n",
       "      <td>1947.78</td>\n",
       "      <td>1948.06</td>\n",
       "      <td>170</td>\n",
       "      <td>8</td>\n",
       "      <td>0</td>\n",
       "    </tr>\n",
       "    <tr>\n",
       "      <th>14</th>\n",
       "      <td>2023-06-14 06:45:00</td>\n",
       "      <td>1948.10</td>\n",
       "      <td>1948.32</td>\n",
       "      <td>1947.87</td>\n",
       "      <td>1948.31</td>\n",
       "      <td>144</td>\n",
       "      <td>6</td>\n",
       "      <td>0</td>\n",
       "    </tr>\n",
       "  </tbody>\n",
       "</table>\n",
       "</div>"
      ],
      "text/plain": [
       "                  time     open     high      low    close  tick_volume  \\\n",
       "0  2023-06-14 05:35:00  1947.37  1947.52  1946.77  1947.42          245   \n",
       "1  2023-06-14 05:40:00  1947.42  1947.67  1946.84  1946.97          182   \n",
       "2  2023-06-14 05:45:00  1946.99  1947.53  1946.79  1946.85          210   \n",
       "3  2023-06-14 05:50:00  1946.86  1947.35  1946.83  1947.11          201   \n",
       "4  2023-06-14 05:55:00  1947.11  1947.65  1947.09  1947.55          186   \n",
       "5  2023-06-14 06:00:00  1947.54  1947.61  1947.25  1947.35          162   \n",
       "6  2023-06-14 06:05:00  1947.38  1947.65  1947.10  1947.10          186   \n",
       "7  2023-06-14 06:10:00  1947.05  1947.38  1946.96  1947.25          191   \n",
       "8  2023-06-14 06:15:00  1947.25  1947.49  1947.02  1947.15          140   \n",
       "9  2023-06-14 06:20:00  1947.19  1947.36  1946.86  1947.07          186   \n",
       "10 2023-06-14 06:25:00  1947.07  1947.84  1947.07  1947.70          168   \n",
       "11 2023-06-14 06:30:00  1947.73  1948.17  1947.52  1948.12          168   \n",
       "12 2023-06-14 06:35:00  1948.12  1948.26  1947.58  1948.11          211   \n",
       "13 2023-06-14 06:40:00  1948.11  1948.25  1947.78  1948.06          170   \n",
       "14 2023-06-14 06:45:00  1948.10  1948.32  1947.87  1948.31          144   \n",
       "\n",
       "    spread  real_volume  \n",
       "0        7            0  \n",
       "1        7            0  \n",
       "2        7            0  \n",
       "3        5            0  \n",
       "4        8            0  \n",
       "5        8            0  \n",
       "6        8            0  \n",
       "7        6            0  \n",
       "8        6            0  \n",
       "9        8            0  \n",
       "10       7            0  \n",
       "11       8            0  \n",
       "12       7            0  \n",
       "13       8            0  \n",
       "14       6            0  "
      ]
     },
     "execution_count": 40,
     "metadata": {},
     "output_type": "execute_result"
    }
   ],
   "source": [
    "from_data =datetime.now()\n",
    "to_date =datetime(2023,1,10)\n",
    "Number_candle = 15\n",
    "rates = Mt5.copy_rates_from('XAUUSD',Mt5.TIMEFRAME_M5, from_data,Number_candle)\n",
    "\n",
    "df_rates = pd.DataFrame(rates)\n",
    "df_rates['time'] =pd.to_datetime(df_rates['time'], unit=\"s\")#.jalali.to_jalali()\n",
    "\n",
    "df_rates"
   ]
  },
  {
   "cell_type": "code",
   "execution_count": 41,
   "metadata": {},
   "outputs": [
    {
     "name": "stdout",
     "output_type": "stream",
     "text": [
      "\n",
      "Initializing the basics.\n",
      "You are running the TEST_01 expert advisor, version 0.1, on symbol XAUUSD.\n",
      "Initialization successfully completed.\n",
      "\n",
      "Summary:\n",
      "ExpertAdvisor name:              TEST_01\n",
      "ExpertAdvisor version:           0.1\n",
      "Running on symbol:               XAUUSD\n",
      "MagicNumber:                     1245\n",
      "Number of lot(s):                1523.0\n",
      "StopLoss:                        20\n",
      "TakeProfit:                      20\n",
      "Emergency StopLoss:              100\n",
      "Emergency TakeProfit:            100\n",
      "Start trading time:              9:15\n",
      "Finishing trading time:          17:30\n",
      "Closing position after:          17:50\n",
      "Average fee per trading:         0.0\n",
      "StopLoss & TakeProfit Steps:     1.0\n",
      "\n",
      "Running\n",
      "\n"
     ]
    }
   ],
   "source": [
    "trade = Trade(\n",
    "            expert_name           = 'TEST_01',      # Expert name\n",
    "            version               = 0.1,            # Expert Version\n",
    "            symbol                = 'XAUUSD',       # Symbol\n",
    "            magic_number          = 1245,           # Magic Number\n",
    "            lot                   = 1523.0,           # Volume\n",
    "            stop_loss             = 20,             # It calls a functions that tries to close the deal, it is the stop you want.\n",
    "            emergency_stop_loss   = 100,            # It set stop on chart as a protection if something went wrong with the stop_loss.\n",
    "            take_profit           = 20,             # The same of stop_loss but for profit.\n",
    "            emergency_take_profit = 100,            # The same of emergency_stop_loss but for gain\n",
    "            start_time            = '9:15',         # It is the hour and minutes that the expert advisor are able to start to run.\n",
    "            finishing_time        = '17:30',        # No new position can be opened after that time.\n",
    "            ending_time           = '17:50',        # If there is a position opened it will be closed.\n",
    "            fee                   = 0.0,            # fee\n",
    "        )"
   ]
  },
  {
   "cell_type": "code",
   "execution_count": 42,
   "metadata": {},
   "outputs": [
    {
     "name": "stdout",
     "output_type": "stream",
     "text": [
      "Total of deals: 0, 0 gain, 0 loss.\n",
      "Balance: 0.0, fee: 0.0, final balance: 0.0.\n"
     ]
    }
   ],
   "source": [
    "trade.statistics()"
   ]
  },
  {
   "attachments": {},
   "cell_type": "markdown",
   "metadata": {},
   "source": [
    "## 1 Step back Candle"
   ]
  },
  {
   "cell_type": "code",
   "execution_count": 43,
   "metadata": {},
   "outputs": [],
   "source": [
    "rates = Rates(trade.symbol, Mt5.TIMEFRAME_M30, 1, 1)"
   ]
  },
  {
   "cell_type": "code",
   "execution_count": 44,
   "metadata": {},
   "outputs": [
    {
     "name": "stdout",
     "output_type": "stream",
     "text": [
      "cLose        :  [1946.97]\n",
      "open         :  [1946.42]\n",
      "high         :  [1947.84]\n",
      "low          :  [1945.4]\n",
      "volume       :  [0]\n",
      "spread       :  [5]\n",
      "tick volume  :  [2003]\n",
      "time         :  [1686733200]\n"
     ]
    }
   ],
   "source": [
    "print('cLose        : ',rates.close)\n",
    "print('open         : ',rates.open)\n",
    "print('high         : ',rates.high)\n",
    "print('low          : ',rates.low)\n",
    "print('volume       : ',rates.real_volume)\n",
    "print('spread       : ',rates.spread)\n",
    "print('tick volume  : ',rates.tick_volume)\n",
    "print('time         : ',rates.time)"
   ]
  },
  {
   "attachments": {},
   "cell_type": "markdown",
   "metadata": {},
   "source": [
    "### Tick\n",
    "> #### current price"
   ]
  },
  {
   "cell_type": "code",
   "execution_count": 45,
   "metadata": {},
   "outputs": [],
   "source": [
    "tick = Tick(trade.symbol)"
   ]
  },
  {
   "cell_type": "code",
   "execution_count": 46,
   "metadata": {},
   "outputs": [
    {
     "name": "stdout",
     "output_type": "stream",
     "text": [
      "BID : 1946.37       ASK : 1946.45       spread : 0.08\r"
     ]
    }
   ],
   "source": [
    "\n",
    "for i in range(10):\n",
    "    tick = Tick(trade.symbol)\n",
    "    \n",
    "    spread = round(tick.ask - tick.bid ,4)\n",
    "    print(\"BID :\",tick.bid ,' '*5,\"ASK :\",tick.ask ,' '*5, 'spread :',spread  ,end='\\r')\n",
    "    sleep(1)\n",
    "    \n",
    "    \n",
    "    \n",
    "# print(tick.last)          # price for last Trade\n",
    "# print(tick.c)\n",
    "# print(tick.volume_real)\n",
    "# print(tick.flags)"
   ]
  },
  {
   "cell_type": "code",
   "execution_count": null,
   "metadata": {},
   "outputs": [],
   "source": [
    "tick.time_msc"
   ]
  },
  {
   "cell_type": "code",
   "execution_count": null,
   "metadata": {},
   "outputs": [],
   "source": [
    "print(tick.last)\n",
    "print(rates.open)"
   ]
  },
  {
   "cell_type": "code",
   "execution_count": null,
   "metadata": {},
   "outputs": [],
   "source": [
    "trade = Trade(\n",
    "            expert_name           = 'TEST_01',      # Expert name\n",
    "            version               = 0.1,            # Expert Version\n",
    "            symbol                = 'XAUUSD',       # Symbol\n",
    "            magic_number          = 1245,           # Magic Number\n",
    "            lot                   = 0.1,            # Volume\n",
    "            stop_loss             = 250,             # It calls a functions that tries to close the deal, it is the stop you want.\n",
    "            emergency_stop_loss   = 100,            # It set stop on chart as a protection if something went wrong with the stop_loss.\n",
    "            take_profit           = 25,             # The same of stop_loss but for profit.\n",
    "            emergency_take_profit = 250,            # The same of emergency_stop_loss but for gain\n",
    "            start_time            = '9:15',         # It is the hour and minutes that the expert advisor are able to start to run.\n",
    "            finishing_time        = '17:30',        # No new position can be opened after that time.\n",
    "            ending_time           = '17:50',        # If there is a position opened it will be closed.\n",
    "            fee                   = 0.5,            # fee\n",
    "        )\n",
    "time = 0\n",
    "while True:\n",
    "\n",
    "    tick  = Tick(trade.symbol)\n",
    "    rates = Rates(trade.symbol, Mt5.TIMEFRAME_M5, 1, 1)\n",
    "\n",
    "    if tick.time_msc != time:\n",
    "        buy  = (tick.last > rates.open)\n",
    "        sell = (tick.last < rates.open)\n",
    "\n",
    "        trade.open_position(buy, sell, 'Example Advisor')\n",
    "\n",
    "    time = tick.time_msc\n",
    "\n",
    "    if trade.days_end():\n",
    "        trade.close_position('End of the trading day reached.')\n",
    "        break\n",
    "\n",
    "print('Finishing the program.')\n",
    "print('Program finished.')"
   ]
  },
  {
   "cell_type": "code",
   "execution_count": null,
   "metadata": {},
   "outputs": [],
   "source": [
    "trade.statistics()"
   ]
  },
  {
   "cell_type": "code",
   "execution_count": null,
   "metadata": {},
   "outputs": [],
   "source": [
    "from_date=datetime(2020,1,1)\n",
    "to_date=datetime.now()\n",
    "deals=Mt5.history_deals_get(from_date, to_date, group=\"*xauusd*\")"
   ]
  },
  {
   "cell_type": "code",
   "execution_count": null,
   "metadata": {},
   "outputs": [],
   "source": [
    "if deals==None:\n",
    "    print(\"No deals with group=\\\"*USD*\\\", error code={}\".format(Mt5.last_error()))\n",
    "elif len(deals)> 0:\n",
    "    print(\"history_deals_get({}, {}, group=\\\"*GBP*\\\")={}\".format(from_date,to_date,len(deals)))\n",
    "elif len(deals)< 0:\n",
    "    print(\"history_deals_get({}, {}, group=\\\"*GBP*\\\")={}\".format(from_date,to_date,len(deals)))\n",
    "elif len(deals)+ 0:\n",
    "    print(\"history_deals_get({}, {}, group=\\\"*GBP*\\\")={}\".format(from_date,to_date,len(deals)))\n",
    "    "
   ]
  },
  {
   "cell_type": "code",
   "execution_count": null,
   "metadata": {},
   "outputs": [],
   "source": []
  },
  {
   "cell_type": "code",
   "execution_count": null,
   "metadata": {},
   "outputs": [],
   "source": []
  },
  {
   "cell_type": "code",
   "execution_count": null,
   "metadata": {},
   "outputs": [],
   "source": []
  },
  {
   "cell_type": "code",
   "execution_count": null,
   "metadata": {},
   "outputs": [],
   "source": []
  },
  {
   "cell_type": "code",
   "execution_count": null,
   "metadata": {},
   "outputs": [],
   "source": [
    "print('line1\\r\\nline2\\r\\nline3')"
   ]
  },
  {
   "cell_type": "code",
   "execution_count": null,
   "metadata": {},
   "outputs": [],
   "source": [
    "print('Checking file integrity...', end='\\n')\n",
    "print('Checking file integrity...', end='\\t')\n",
    "print('Checking file integrity...', end='\\l')\n",
    "print('Checking file integrity...', end='sajad')"
   ]
  },
  {
   "cell_type": "code",
   "execution_count": null,
   "metadata": {},
   "outputs": [],
   "source": [
    "print('Printing in a Nutshell', end='\\n * ')\n",
    "print('Calling Print', end='\\n * ')\n",
    "print('Separating Multiple Arguments', end='\\n * ')\n",
    "print('Preventing Line Breaks')"
   ]
  },
  {
   "cell_type": "code",
   "execution_count": null,
   "metadata": {},
   "outputs": [],
   "source": [
    "from time import sleep\n",
    "\n",
    "for i in range(10):\n",
    "    print(f\"\\rTime remaining: {i} Seconds\", end='', flush=True)\n",
    "    sleep(1)"
   ]
  },
  {
   "cell_type": "code",
   "execution_count": null,
   "metadata": {},
   "outputs": [],
   "source": [
    "import time\n",
    "\n",
    "x = 10\n",
    "width = str(len(str(x)))\n",
    "while x > 0:\n",
    "    print('Time remaining: {{:{:}}} seconds'.format(width).format(x), end='\\r')\n",
    "    x -= 1\n",
    "    time.sleep(1)"
   ]
  },
  {
   "cell_type": "code",
   "execution_count": null,
   "metadata": {},
   "outputs": [],
   "source": []
  }
 ],
 "metadata": {
  "kernelspec": {
   "display_name": "Python 3",
   "language": "python",
   "name": "python3"
  },
  "language_info": {
   "codemirror_mode": {
    "name": "ipython",
    "version": 3
   },
   "file_extension": ".py",
   "mimetype": "text/x-python",
   "name": "python",
   "nbconvert_exporter": "python",
   "pygments_lexer": "ipython3",
   "version": "3.10.4"
  },
  "orig_nbformat": 4
 },
 "nbformat": 4,
 "nbformat_minor": 2
}
