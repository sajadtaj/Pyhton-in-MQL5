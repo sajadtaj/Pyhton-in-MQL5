{
 "cells": [
  {
   "cell_type": "code",
   "execution_count": 1,
   "metadata": {},
   "outputs": [],
   "source": [
    "from datetime import datetime\n",
    "import jalali_pandas\n",
    "import numpy as np \n",
    "import pandas as pd\n",
    "\n",
    "%load_ext autoreload\n",
    "%autoreload 2\n",
    "\n",
    "from datetime import datetime, timedelta\n",
    "import MetaTrader5 as Mt5\n",
    "\n",
    "from include.trade import Trade\n",
    "from include.tick import Tick\n",
    "from include.rates import Rates\n",
    "from include.indicator_connector import Indicator"
   ]
  },
  {
   "cell_type": "code",
   "execution_count": 2,
   "metadata": {},
   "outputs": [],
   "source": [
    "def start_mt5(username, password, server, path):\n",
    "    # Ensure that all variables are the correct type\n",
    "    uname           = int(username) # Username must be an int\n",
    "    pword           = str(password) # Password must be a string\n",
    "    trading_server  = str(server) # Server must be a string\n",
    "    filepath        = str(path) # Filepath must be a string\n",
    "\n",
    "    # Attempt to start MT5\n",
    "    if Mt5.initialize(login=uname, password=pword, server=trading_server, path=filepath):\n",
    "        # Login to MT5\n",
    "        if Mt5.login(login=uname, password=pword, server=trading_server):\n",
    "            return True\n",
    "        else:\n",
    "            print(\"Login Fail\")\n",
    "            quit()\n",
    "            return PermissionError\n",
    "    else:\n",
    "        print(\"MT5 Initialization Failed\")\n",
    "        quit()\n",
    "        return ConnectionAbortedError"
   ]
  },
  {
   "cell_type": "code",
   "execution_count": null,
   "metadata": {},
   "outputs": [],
   "source": [
    "start_mt5(  \n",
    "        username  = 5014120852       ,\n",
    "        password  = 'blqlyf5p'       ,\n",
    "        server    = 'MetaQuotes-Demo',\n",
    "        path      = rf'C:\\Users\\s.tajedin\\AppData\\Roaming\\MetaTrader 5\\terminal64.exe'\n",
    "    )\n"
   ]
  },
  {
   "cell_type": "code",
   "execution_count": null,
   "metadata": {},
   "outputs": [],
   "source": [
    "Mt5.initialize()"
   ]
  },
  {
   "cell_type": "markdown",
   "metadata": {},
   "source": [
    "## Get 5 Min Data"
   ]
  },
  {
   "cell_type": "code",
   "execution_count": null,
   "metadata": {},
   "outputs": [],
   "source": [
    "from_data =datetime.now()\n",
    "to_date =datetime(2023,1,10)\n",
    "Number_candle = 15\n",
    "rates = mp5.copy_rates_from('XAUUSD',mp5.TIMEFRAME_M5, from_data,Number_candle)\n",
    "\n",
    "df_rates = pd.DataFrame(rates)\n",
    "df_rates['time'] =pd.to_datetime(df_rates['time'], unit=\"s\")#.jalali.to_jalali()\n",
    "\n",
    "df_rates"
   ]
  },
  {
   "cell_type": "code",
   "execution_count": null,
   "metadata": {},
   "outputs": [],
   "source": [
    "trade = Trade(\n",
    "            expert_name           = 'TEST_01',      # Expert name\n",
    "            version               = 0.1,            # Expert Version\n",
    "            symbol                = 'XAUUSD',       # Symbol\n",
    "            magic_number          = 1245,           # Magic Number\n",
    "            lot                   = 1523.0,           # Volume\n",
    "            stop_loss             = 20,             # It calls a functions that tries to close the deal, it is the stop you want.\n",
    "            emergency_stop_loss   = 100,            # It set stop on chart as a protection if something went wrong with the stop_loss.\n",
    "            take_profit           = 20,             # The same of stop_loss but for profit.\n",
    "            emergency_take_profit = 100,            # The same of emergency_stop_loss but for gain\n",
    "            start_time            = '9:15',         # It is the hour and minutes that the expert advisor are able to start to run.\n",
    "            finishing_time        = '17:30',        # No new position can be opened after that time.\n",
    "            ending_time           = '17:50',        # If there is a position opened it will be closed.\n",
    "            fee                   = 0.0,            # fee\n",
    "        )"
   ]
  },
  {
   "cell_type": "code",
   "execution_count": null,
   "metadata": {},
   "outputs": [],
   "source": [
    "trade.statistics()"
   ]
  },
  {
   "attachments": {},
   "cell_type": "markdown",
   "metadata": {},
   "source": [
    "## 1 Step back Candle"
   ]
  },
  {
   "cell_type": "code",
   "execution_count": null,
   "metadata": {},
   "outputs": [],
   "source": [
    "rates = Rates(trade.symbol, mp5.TIMEFRAME_M30, 1, 1)"
   ]
  },
  {
   "cell_type": "code",
   "execution_count": null,
   "metadata": {},
   "outputs": [],
   "source": [
    "print(rates.close)\n",
    "print(rates.open)\n",
    "print(rates.high)\n",
    "print(rates.low)\n",
    "print(rates.real_volume)\n",
    "print(rates.spread)\n",
    "print(rates.tick_volume)\n",
    "print(rates.time)"
   ]
  },
  {
   "attachments": {},
   "cell_type": "markdown",
   "metadata": {},
   "source": [
    "### Tick\n",
    "> #### current price"
   ]
  },
  {
   "cell_type": "code",
   "execution_count": null,
   "metadata": {},
   "outputs": [],
   "source": [
    "tick = Tick(trade.symbol)"
   ]
  },
  {
   "cell_type": "code",
   "execution_count": null,
   "metadata": {},
   "outputs": [],
   "source": [
    "print(tick.ask)\n",
    "print(tick.bid)\n",
    "print(tick.last) # price for last Trade\n",
    "print(tick.volume)\n",
    "print(tick.volume_real)\n",
    "print(tick.flags)"
   ]
  },
  {
   "cell_type": "code",
   "execution_count": null,
   "metadata": {},
   "outputs": [],
   "source": [
    "tick.time_msc"
   ]
  },
  {
   "cell_type": "code",
   "execution_count": null,
   "metadata": {},
   "outputs": [],
   "source": [
    "print(tick.last)\n",
    "print(rates.open)"
   ]
  },
  {
   "cell_type": "code",
   "execution_count": null,
   "metadata": {},
   "outputs": [],
   "source": [
    "trade = Trade(\n",
    "            expert_name           = 'TEST_01',      # Expert name\n",
    "            version               = 0.1,            # Expert Version\n",
    "            symbol                = 'XAUUSD',       # Symbol\n",
    "            magic_number          = 1245,           # Magic Number\n",
    "            lot                   = 0.1,            # Volume\n",
    "            stop_loss             = 250,             # It calls a functions that tries to close the deal, it is the stop you want.\n",
    "            emergency_stop_loss   = 100,            # It set stop on chart as a protection if something went wrong with the stop_loss.\n",
    "            take_profit           = 25,             # The same of stop_loss but for profit.\n",
    "            emergency_take_profit = 250,            # The same of emergency_stop_loss but for gain\n",
    "            start_time            = '9:15',         # It is the hour and minutes that the expert advisor are able to start to run.\n",
    "            finishing_time        = '17:30',        # No new position can be opened after that time.\n",
    "            ending_time           = '17:50',        # If there is a position opened it will be closed.\n",
    "            fee                   = 0.5,            # fee\n",
    "        )\n"
   ]
  },
  {
   "cell_type": "code",
   "execution_count": null,
   "metadata": {},
   "outputs": [],
   "source": [
    "time = 0\n",
    "while True:\n",
    "\n",
    "    tick = Tick(trade.symbol)\n",
    "    rates =Rates(trade.symbol, mp5.TIMEFRAME_M5, 1, 1)\n",
    "\n",
    "    if tick.time_msc != time:\n",
    "        buy = (tick.last > rates.open)\n",
    "        sell = (tick.last < rates.open)\n",
    "\n",
    "        trade.open_position(buy, sell, 'Example Advisor')\n",
    "\n",
    "    time = tick.time_msc\n",
    "\n",
    "    if trade.days_end():\n",
    "        trade.close_position('End of the trading day reached.')\n",
    "        break\n",
    "\n",
    "print('Finishing the program.')\n",
    "print('Program finished.')"
   ]
  },
  {
   "attachments": {},
   "cell_type": "markdown",
   "metadata": {},
   "source": [
    "### چون در ایران معاملات الگوریتمیک ممنوع می باشد"
   ]
  },
  {
   "attachments": {},
   "cell_type": "markdown",
   "metadata": {},
   "source": [
    "> 10026 : Autotrading disabled by server \\\n",
    "> 10027 : Autotrading disabled by client terminal \\\n",
    "> 10014 : Invalid volume in the request"
   ]
  },
  {
   "cell_type": "code",
   "execution_count": null,
   "metadata": {},
   "outputs": [],
   "source": [
    "dur_   = timedelta(minutes=120)\n",
    "now_  =datetime.now()\n",
    "from_ = now_ - dur_\n",
    "print(now_)\n",
    "print(from_)\n",
    "\n",
    "Mt5.history_deals_get(from_,now_,'XAUUSD')"
   ]
  },
  {
   "cell_type": "code",
   "execution_count": null,
   "metadata": {},
   "outputs": [],
   "source": [
    "trade.statistics()"
   ]
  },
  {
   "cell_type": "code",
   "execution_count": null,
   "metadata": {},
   "outputs": [],
   "source": [
    "from_date=datetime(2020,1,1)\n",
    "to_date=datetime.now()\n",
    "deals=Mt5.history_deals_get(from_date, to_date, group=\"*xauusd*\")"
   ]
  },
  {
   "cell_type": "code",
   "execution_count": null,
   "metadata": {},
   "outputs": [],
   "source": [
    "if deals==None:\n",
    "    print(\"No deals with group=\\\"*USD*\\\", error code={}\".format(Mt5.last_error()))\n",
    "elif len(deals)> 0:\n",
    "    print(\"history_deals_get({}, {}, group=\\\"*GBP*\\\")={}\".format(from_date,to_date,len(deals)))\n",
    "elif len(deals)< 0:\n",
    "    print(\"history_deals_get({}, {}, group=\\\"*GBP*\\\")={}\".format(from_date,to_date,len(deals)))\n",
    "elif len(deals)+ 0:\n",
    "    print(\"history_deals_get({}, {}, group=\\\"*GBP*\\\")={}\".format(from_date,to_date,len(deals)))\n",
    "    "
   ]
  },
  {
   "cell_type": "code",
   "execution_count": null,
   "metadata": {},
   "outputs": [],
   "source": []
  }
 ],
 "metadata": {
  "kernelspec": {
   "display_name": "Python 3",
   "language": "python",
   "name": "python3"
  },
  "language_info": {
   "codemirror_mode": {
    "name": "ipython",
    "version": 3
   },
   "file_extension": ".py",
   "mimetype": "text/x-python",
   "name": "python",
   "nbconvert_exporter": "python",
   "pygments_lexer": "ipython3",
   "version": "3.10.4"
  },
  "orig_nbformat": 4
 },
 "nbformat": 4,
 "nbformat_minor": 2
}
