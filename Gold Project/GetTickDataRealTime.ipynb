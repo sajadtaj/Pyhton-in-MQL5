{
 "cells": [
  {
   "cell_type": "code",
   "execution_count": 1,
   "metadata": {},
   "outputs": [],
   "source": [
    "from datetime import datetime, timedelta\n",
    "from time import sleep\n",
    "import MetaTrader5 as Mt5\n",
    "\n",
    "from include.trade import Trade\n",
    "from include.tick import Tick\n",
    "from include.rates import Rates"
   ]
  },
  {
   "cell_type": "code",
   "execution_count": 2,
   "metadata": {},
   "outputs": [
    {
     "name": "stdout",
     "output_type": "stream",
     "text": [
      "\n",
      "Initializing the basics.\n",
      "You are running the TEST_01 expert advisor, version 0.1, on symbol XAUUSD.\n",
      "Initialization successfully completed.\n",
      "\n",
      "Summary:\n",
      "ExpertAdvisor name:              TEST_01\n",
      "ExpertAdvisor version:           0.1\n",
      "Running on symbol:               XAUUSD\n",
      "MagicNumber:                     1245\n",
      "Number of lot(s):                1523.0\n",
      "StopLoss:                        20\n",
      "TakeProfit:                      20\n",
      "Emergency StopLoss:              100\n",
      "Emergency TakeProfit:            100\n",
      "Start trading time:              9:15\n",
      "Finishing trading time:          17:30\n",
      "Closing position after:          17:50\n",
      "Average fee per trading:         0.0\n",
      "StopLoss & TakeProfit Steps:     1.0\n",
      "\n",
      "Running\n",
      "\n"
     ]
    }
   ],
   "source": [
    "trade = Trade(\n",
    "            expert_name           = 'TEST_01',      # Expert name\n",
    "            version               = 0.1,            # Expert Version\n",
    "            symbol                = 'XAUUSD',       # Symbol\n",
    "            magic_number          = 1245,           # Magic Number\n",
    "            lot                   = 1523.0,           # Volume\n",
    "            stop_loss             = 20,             # It calls a functions that tries to close the deal, it is the stop you want.\n",
    "            emergency_stop_loss   = 100,            # It set stop on chart as a protection if something went wrong with the stop_loss.\n",
    "            take_profit           = 20,             # The same of stop_loss but for profit.\n",
    "            emergency_take_profit = 100,            # The same of emergency_stop_loss but for gain\n",
    "            start_time            = '9:15',         # It is the hour and minutes that the expert advisor are able to start to run.\n",
    "            finishing_time        = '17:30',        # No new position can be opened after that time.\n",
    "            ending_time           = '17:50',        # If there is a position opened it will be closed.\n",
    "            fee                   = 0.0,            # fee\n",
    "        )"
   ]
  },
  {
   "attachments": {},
   "cell_type": "markdown",
   "metadata": {},
   "source": [
    "## Get Tick Of Real Time price of Bid Ask "
   ]
  },
  {
   "cell_type": "code",
   "execution_count": 3,
   "metadata": {},
   "outputs": [
    {
     "name": "stdout",
     "output_type": "stream",
     "text": [
      "BID : 1946.59       ASK : 1946.67       spread : 0.08\r"
     ]
    }
   ],
   "source": [
    "for i in range(10):\n",
    "    tick = Tick(trade.symbol)\n",
    "    spread = round(tick.ask - tick.bid ,4)\n",
    "    print(\"BID :\",tick.bid ,' '*5,\"ASK :\",tick.ask ,' '*5, 'spread :',spread  ,end='\\r')\n",
    "    sleep(1)"
   ]
  },
  {
   "cell_type": "code",
   "execution_count": null,
   "metadata": {},
   "outputs": [],
   "source": []
  }
 ],
 "metadata": {
  "kernelspec": {
   "display_name": "Python 3",
   "language": "python",
   "name": "python3"
  },
  "language_info": {
   "codemirror_mode": {
    "name": "ipython",
    "version": 3
   },
   "file_extension": ".py",
   "mimetype": "text/x-python",
   "name": "python",
   "nbconvert_exporter": "python",
   "pygments_lexer": "ipython3",
   "version": "3.10.4"
  },
  "orig_nbformat": 4
 },
 "nbformat": 4,
 "nbformat_minor": 2
}
